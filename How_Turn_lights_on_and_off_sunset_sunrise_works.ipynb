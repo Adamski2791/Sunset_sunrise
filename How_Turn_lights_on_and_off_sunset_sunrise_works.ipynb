{
 "cells": [
  {
   "cell_type": "markdown",
   "id": "b836ac33",
   "metadata": {},
   "source": [
    "This code combines the functionality of calculating sunrise and sunset times using the `astral` module with a scheduling feature implemented using the `schedule` module. Let's go through it step by step:\n",
    "\n",
    "1. The code starts by importing the necessary modules: `datetime`, `pytz`, `schedule`, and `time`.\n",
    "\n",
    "2. Two functions are defined: `turn_on_lights` and `turn_off_lights`. These functions simply print a message indicating whether the lights are being turned on or off.\n",
    "\n",
    "3. The `calculate_sunrise_sunset` function is defined. This function takes three parameters: `date`, `latitude`, and `longitude`. It returns a tuple containing the calculated sunrise and sunset times.\n",
    "\n",
    "4. Inside the `calculate_sunrise_sunset` function:\n",
    "   - A `LocationInfo` object is created using the provided location information, including the latitude and longitude.\n",
    "   - The time zone is explicitly set to \"Europe/Belfast\" using `pytz.timezone`.\n",
    "   - A `datetime` object is created by combining the given `date` with `datetime.time.min`, representing midnight. The time zone is set to the specified time zone.\n",
    "   - The `sun.sun` function from the `astral` module is used to calculate the sunrise and sunset times for the given `date` and `location` using the specified time zone.\n",
    "   - The sunrise and sunset times are extracted from the calculation result and stored in variables.\n",
    "   - Finally, the function returns a tuple containing the sunrise and sunset times.\n",
    "\n",
    "5. The code checks if it is being run as the main program using the `if __name__ == \"__main__\":` condition.\n",
    "\n",
    "6. Inside the main program block:\n",
    "   - A specific `date`, `latitude`, and `longitude` are provided.\n",
    "   - The `calculate_sunrise_sunset` function is called with the given parameters, and the returned `sunrise` and `sunset` times are stored in variables.\n",
    "   - The sunrise and sunset times are printed to the console.\n",
    "   - Two scheduling tasks are set up using the `schedule` module. One task is scheduled to run `turn_on_lights` 30 minutes before sunrise, and the other task is scheduled to run `turn_off_lights` 30 minutes after sunset. The `strftime` method is used to format the times in the desired \"HH:MM\" format for scheduling.\n",
    "   - The scheduling loop is initiated using a `while` loop. The `schedule.run_pending()` function checks if any scheduled tasks need to be executed, and the `time.sleep(1)` function pauses the loop for 1 second between iterations.\n",
    "\n",
    "The combined code allows you to calculate and print the sunrise and sunset times, while also scheduling tasks to turn on and off the lights based on those times. The scheduling loop ensures that the tasks are executed at the specified times every day."
   ]
  }
 ],
 "metadata": {
  "kernelspec": {
   "display_name": "Python 3 (ipykernel)",
   "language": "python",
   "name": "python3"
  },
  "language_info": {
   "codemirror_mode": {
    "name": "ipython",
    "version": 3
   },
   "file_extension": ".py",
   "mimetype": "text/x-python",
   "name": "python",
   "nbconvert_exporter": "python",
   "pygments_lexer": "ipython3",
   "version": "3.9.7"
  }
 },
 "nbformat": 4,
 "nbformat_minor": 5
}
