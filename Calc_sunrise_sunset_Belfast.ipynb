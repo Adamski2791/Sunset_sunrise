{
 "cells": [
  {
   "cell_type": "code",
   "execution_count": 7,
   "id": "601fd0f3",
   "metadata": {
    "scrolled": true
   },
   "outputs": [
    {
     "name": "stdout",
     "output_type": "stream",
     "text": [
      "Sunrise: 2023-06-18 04:47:01.696576+01:00\n",
      "Sunset: 2023-06-18 22:02:31.371458+01:00\n"
     ]
    }
   ],
   "source": [
    "import datetime\n",
    "import pytz\n",
    "from astral import LocationInfo, sun\n",
    "\n",
    "def calculate_sunrise_sunset(date, latitude, longitude):\n",
    "    \"\"\"Calculates the sunrise and sunset times for a given date, latitude, and longitude.\n",
    "\n",
    "    Args:\n",
    "        date: The date to calculate the sunrise and sunset times for.\n",
    "        latitude: The latitude of the location.\n",
    "        longitude: The longitude of the location.\n",
    "\n",
    "    Returns:\n",
    "        A tuple of the sunrise and sunset times.\n",
    "    \"\"\"\n",
    "    # Create a LocationInfo object with the location's information\n",
    "    location = LocationInfo(\"Custom Location\", \"Country\", \"Region\", latitude, longitude)\n",
    "\n",
    "    # Specify the time zone explicitly\n",
    "    tz = pytz.timezone(\"Europe/Belfast\")\n",
    "\n",
    "    # Create a datetime object for the specified date and time\n",
    "    dt = datetime.datetime.combine(date, datetime.time.min, tzinfo=tz)\n",
    "\n",
    "    # Calculate sunrise and sunset times for the given date and location\n",
    "    s = sun.sun(location.observer, date=date, tzinfo=tz)\n",
    "\n",
    "    # Extract the sunrise and sunset times from the calculation result\n",
    "    sunrise = s[\"sunrise\"]\n",
    "    sunset = s[\"sunset\"]\n",
    "\n",
    "    return sunrise, sunset\n",
    "\n",
    "if __name__ == \"__main__\":\n",
    "    date = datetime.date(2023, 6, 18)\n",
    "    latitude = 54.6\n",
    "    longitude = -5.9\n",
    "\n",
    "    sunrise, sunset = calculate_sunrise_sunset(date, latitude, longitude)\n",
    "    print(f\"Sunrise: {sunrise}\")\n",
    "    print(f\"Sunset: {sunset}\")\n"
   ]
  },
  {
   "cell_type": "code",
   "execution_count": null,
   "id": "b4c127d5",
   "metadata": {},
   "outputs": [],
   "source": []
  }
 ],
 "metadata": {
  "kernelspec": {
   "display_name": "Python 3 (ipykernel)",
   "language": "python",
   "name": "python3"
  },
  "language_info": {
   "codemirror_mode": {
    "name": "ipython",
    "version": 3
   },
   "file_extension": ".py",
   "mimetype": "text/x-python",
   "name": "python",
   "nbconvert_exporter": "python",
   "pygments_lexer": "ipython3",
   "version": "3.9.7"
  }
 },
 "nbformat": 4,
 "nbformat_minor": 5
}
